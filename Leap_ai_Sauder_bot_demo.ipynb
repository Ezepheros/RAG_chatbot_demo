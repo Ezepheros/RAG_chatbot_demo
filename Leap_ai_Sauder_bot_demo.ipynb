{
  "nbformat": 4,
  "nbformat_minor": 0,
  "metadata": {
    "colab": {
      "provenance": []
    },
    "kernelspec": {
      "name": "python3",
      "display_name": "Python 3"
    },
    "language_info": {
      "name": "python"
    }
  },
  "cells": [
    {
      "cell_type": "code",
      "source": [
        "!pip install --upgrade cohere\n",
        "!pip install python-dotenv\n",
        "!pip install --target=/usr/local/lib/python3.10/dist-packages annoy\n",
        "!pip show annoy\n",
        "\n",
        "import sys\n",
        "sys.path.append('my_lib')\n",
        "print(sys.path)"
      ],
      "metadata": {
        "colab": {
          "base_uri": "https://localhost:8080/"
        },
        "id": "h4a5EWB8tZo1",
        "outputId": "174c2ede-b62a-41d1-afe9-1642e4af7a31"
      },
      "execution_count": 1,
      "outputs": [
        {
          "output_type": "stream",
          "name": "stdout",
          "text": [
            "Collecting cohere\n",
            "  Downloading cohere-5.5.6-py3-none-any.whl (165 kB)\n",
            "\u001b[2K     \u001b[90m━━━━━━━━━━━━━━━━━━━━━━━━━━━━━━━━━━━━━━━━\u001b[0m \u001b[32m165.1/165.1 kB\u001b[0m \u001b[31m3.3 MB/s\u001b[0m eta \u001b[36m0:00:00\u001b[0m\n",
            "\u001b[?25hCollecting boto3<2.0.0,>=1.34.0 (from cohere)\n",
            "  Downloading boto3-1.34.122-py3-none-any.whl (139 kB)\n",
            "\u001b[2K     \u001b[90m━━━━━━━━━━━━━━━━━━━━━━━━━━━━━━━━━━━━━━━━\u001b[0m \u001b[32m139.3/139.3 kB\u001b[0m \u001b[31m15.4 MB/s\u001b[0m eta \u001b[36m0:00:00\u001b[0m\n",
            "\u001b[?25hCollecting fastavro<2.0.0,>=1.9.4 (from cohere)\n",
            "  Downloading fastavro-1.9.4-cp310-cp310-manylinux_2_17_x86_64.manylinux2014_x86_64.whl (3.1 MB)\n",
            "\u001b[2K     \u001b[90m━━━━━━━━━━━━━━━━━━━━━━━━━━━━━━━━━━━━━━━━\u001b[0m \u001b[32m3.1/3.1 MB\u001b[0m \u001b[31m46.9 MB/s\u001b[0m eta \u001b[36m0:00:00\u001b[0m\n",
            "\u001b[?25hCollecting httpx>=0.21.2 (from cohere)\n",
            "  Downloading httpx-0.27.0-py3-none-any.whl (75 kB)\n",
            "\u001b[2K     \u001b[90m━━━━━━━━━━━━━━━━━━━━━━━━━━━━━━━━━━━━━━━━\u001b[0m \u001b[32m75.6/75.6 kB\u001b[0m \u001b[31m10.5 MB/s\u001b[0m eta \u001b[36m0:00:00\u001b[0m\n",
            "\u001b[?25hCollecting httpx-sse<0.5.0,>=0.4.0 (from cohere)\n",
            "  Downloading httpx_sse-0.4.0-py3-none-any.whl (7.8 kB)\n",
            "Collecting parameterized<0.10.0,>=0.9.0 (from cohere)\n",
            "  Downloading parameterized-0.9.0-py2.py3-none-any.whl (20 kB)\n",
            "Requirement already satisfied: pydantic>=1.9.2 in /usr/local/lib/python3.10/dist-packages (from cohere) (2.7.3)\n",
            "Requirement already satisfied: requests<3.0.0,>=2.0.0 in /usr/local/lib/python3.10/dist-packages (from cohere) (2.31.0)\n",
            "Collecting tokenizers<0.16,>=0.15 (from cohere)\n",
            "  Downloading tokenizers-0.15.2-cp310-cp310-manylinux_2_17_x86_64.manylinux2014_x86_64.whl (3.6 MB)\n",
            "\u001b[2K     \u001b[90m━━━━━━━━━━━━━━━━━━━━━━━━━━━━━━━━━━━━━━━━\u001b[0m \u001b[32m3.6/3.6 MB\u001b[0m \u001b[31m92.8 MB/s\u001b[0m eta \u001b[36m0:00:00\u001b[0m\n",
            "\u001b[?25hCollecting types-requests<3.0.0,>=2.0.0 (from cohere)\n",
            "  Downloading types_requests-2.32.0.20240602-py3-none-any.whl (15 kB)\n",
            "Requirement already satisfied: typing_extensions>=4.0.0 in /usr/local/lib/python3.10/dist-packages (from cohere) (4.12.1)\n",
            "Collecting botocore<1.35.0,>=1.34.122 (from boto3<2.0.0,>=1.34.0->cohere)\n",
            "  Downloading botocore-1.34.122-py3-none-any.whl (12.3 MB)\n",
            "\u001b[2K     \u001b[90m━━━━━━━━━━━━━━━━━━━━━━━━━━━━━━━━━━━━━━━━\u001b[0m \u001b[32m12.3/12.3 MB\u001b[0m \u001b[31m51.9 MB/s\u001b[0m eta \u001b[36m0:00:00\u001b[0m\n",
            "\u001b[?25hCollecting jmespath<2.0.0,>=0.7.1 (from boto3<2.0.0,>=1.34.0->cohere)\n",
            "  Downloading jmespath-1.0.1-py3-none-any.whl (20 kB)\n",
            "Collecting s3transfer<0.11.0,>=0.10.0 (from boto3<2.0.0,>=1.34.0->cohere)\n",
            "  Downloading s3transfer-0.10.1-py3-none-any.whl (82 kB)\n",
            "\u001b[2K     \u001b[90m━━━━━━━━━━━━━━━━━━━━━━━━━━━━━━━━━━━━━━━━\u001b[0m \u001b[32m82.2/82.2 kB\u001b[0m \u001b[31m10.8 MB/s\u001b[0m eta \u001b[36m0:00:00\u001b[0m\n",
            "\u001b[?25hRequirement already satisfied: anyio in /usr/local/lib/python3.10/dist-packages (from httpx>=0.21.2->cohere) (3.7.1)\n",
            "Requirement already satisfied: certifi in /usr/local/lib/python3.10/dist-packages (from httpx>=0.21.2->cohere) (2024.6.2)\n",
            "Collecting httpcore==1.* (from httpx>=0.21.2->cohere)\n",
            "  Downloading httpcore-1.0.5-py3-none-any.whl (77 kB)\n",
            "\u001b[2K     \u001b[90m━━━━━━━━━━━━━━━━━━━━━━━━━━━━━━━━━━━━━━━━\u001b[0m \u001b[32m77.9/77.9 kB\u001b[0m \u001b[31m10.7 MB/s\u001b[0m eta \u001b[36m0:00:00\u001b[0m\n",
            "\u001b[?25hRequirement already satisfied: idna in /usr/local/lib/python3.10/dist-packages (from httpx>=0.21.2->cohere) (3.7)\n",
            "Requirement already satisfied: sniffio in /usr/local/lib/python3.10/dist-packages (from httpx>=0.21.2->cohere) (1.3.1)\n",
            "Collecting h11<0.15,>=0.13 (from httpcore==1.*->httpx>=0.21.2->cohere)\n",
            "  Downloading h11-0.14.0-py3-none-any.whl (58 kB)\n",
            "\u001b[2K     \u001b[90m━━━━━━━━━━━━━━━━━━━━━━━━━━━━━━━━━━━━━━━━\u001b[0m \u001b[32m58.3/58.3 kB\u001b[0m \u001b[31m8.3 MB/s\u001b[0m eta \u001b[36m0:00:00\u001b[0m\n",
            "\u001b[?25hRequirement already satisfied: annotated-types>=0.4.0 in /usr/local/lib/python3.10/dist-packages (from pydantic>=1.9.2->cohere) (0.7.0)\n",
            "Requirement already satisfied: pydantic-core==2.18.4 in /usr/local/lib/python3.10/dist-packages (from pydantic>=1.9.2->cohere) (2.18.4)\n",
            "Requirement already satisfied: charset-normalizer<4,>=2 in /usr/local/lib/python3.10/dist-packages (from requests<3.0.0,>=2.0.0->cohere) (3.3.2)\n",
            "Requirement already satisfied: urllib3<3,>=1.21.1 in /usr/local/lib/python3.10/dist-packages (from requests<3.0.0,>=2.0.0->cohere) (2.0.7)\n",
            "Requirement already satisfied: huggingface_hub<1.0,>=0.16.4 in /usr/local/lib/python3.10/dist-packages (from tokenizers<0.16,>=0.15->cohere) (0.23.2)\n",
            "Requirement already satisfied: python-dateutil<3.0.0,>=2.1 in /usr/local/lib/python3.10/dist-packages (from botocore<1.35.0,>=1.34.122->boto3<2.0.0,>=1.34.0->cohere) (2.8.2)\n",
            "Requirement already satisfied: filelock in /usr/local/lib/python3.10/dist-packages (from huggingface_hub<1.0,>=0.16.4->tokenizers<0.16,>=0.15->cohere) (3.14.0)\n",
            "Requirement already satisfied: fsspec>=2023.5.0 in /usr/local/lib/python3.10/dist-packages (from huggingface_hub<1.0,>=0.16.4->tokenizers<0.16,>=0.15->cohere) (2023.6.0)\n",
            "Requirement already satisfied: packaging>=20.9 in /usr/local/lib/python3.10/dist-packages (from huggingface_hub<1.0,>=0.16.4->tokenizers<0.16,>=0.15->cohere) (24.0)\n",
            "Requirement already satisfied: pyyaml>=5.1 in /usr/local/lib/python3.10/dist-packages (from huggingface_hub<1.0,>=0.16.4->tokenizers<0.16,>=0.15->cohere) (6.0.1)\n",
            "Requirement already satisfied: tqdm>=4.42.1 in /usr/local/lib/python3.10/dist-packages (from huggingface_hub<1.0,>=0.16.4->tokenizers<0.16,>=0.15->cohere) (4.66.4)\n",
            "Requirement already satisfied: exceptiongroup in /usr/local/lib/python3.10/dist-packages (from anyio->httpx>=0.21.2->cohere) (1.2.1)\n",
            "Requirement already satisfied: six>=1.5 in /usr/local/lib/python3.10/dist-packages (from python-dateutil<3.0.0,>=2.1->botocore<1.35.0,>=1.34.122->boto3<2.0.0,>=1.34.0->cohere) (1.16.0)\n",
            "Installing collected packages: types-requests, parameterized, jmespath, httpx-sse, h11, fastavro, httpcore, botocore, tokenizers, s3transfer, httpx, boto3, cohere\n",
            "  Attempting uninstall: tokenizers\n",
            "    Found existing installation: tokenizers 0.19.1\n",
            "    Uninstalling tokenizers-0.19.1:\n",
            "      Successfully uninstalled tokenizers-0.19.1\n",
            "\u001b[31mERROR: pip's dependency resolver does not currently take into account all the packages that are installed. This behaviour is the source of the following dependency conflicts.\n",
            "transformers 4.41.2 requires tokenizers<0.20,>=0.19, but you have tokenizers 0.15.2 which is incompatible.\u001b[0m\u001b[31m\n",
            "\u001b[0mSuccessfully installed boto3-1.34.122 botocore-1.34.122 cohere-5.5.6 fastavro-1.9.4 h11-0.14.0 httpcore-1.0.5 httpx-0.27.0 httpx-sse-0.4.0 jmespath-1.0.1 parameterized-0.9.0 s3transfer-0.10.1 tokenizers-0.15.2 types-requests-2.32.0.20240602\n",
            "Collecting python-dotenv\n",
            "  Downloading python_dotenv-1.0.1-py3-none-any.whl (19 kB)\n",
            "Installing collected packages: python-dotenv\n",
            "Successfully installed python-dotenv-1.0.1\n",
            "Collecting annoy\n",
            "  Downloading annoy-1.17.3.tar.gz (647 kB)\n",
            "\u001b[2K     \u001b[90m━━━━━━━━━━━━━━━━━━━━━━━━━━━━━━━━━━━━━━━━\u001b[0m \u001b[32m647.5/647.5 kB\u001b[0m \u001b[31m8.2 MB/s\u001b[0m eta \u001b[36m0:00:00\u001b[0m\n",
            "\u001b[?25h  Preparing metadata (setup.py) ... \u001b[?25l\u001b[?25hdone\n",
            "Building wheels for collected packages: annoy\n",
            "  Building wheel for annoy (setup.py) ... \u001b[?25l\u001b[?25hdone\n",
            "  Created wheel for annoy: filename=annoy-1.17.3-cp310-cp310-linux_x86_64.whl size=552447 sha256=a03350c9a1d58584856199d306bb9545a15961dcbe35e68a606fdf0b75f97277\n",
            "  Stored in directory: /root/.cache/pip/wheels/64/8a/da/f714bcf46c5efdcfcac0559e63370c21abe961c48e3992465a\n",
            "Successfully built annoy\n",
            "Installing collected packages: annoy\n",
            "Successfully installed annoy-1.17.3\n",
            "Name: annoy\n",
            "Version: 1.17.3\n",
            "Summary: Approximate Nearest Neighbors in C++/Python optimized for memory usage and loading/saving to disk.\n",
            "Home-page: https://github.com/spotify/annoy\n",
            "Author: Erik Bernhardsson\n",
            "Author-email: mail@erikbern.com\n",
            "License: Apache License 2.0\n",
            "Location: /usr/local/lib/python3.10/dist-packages\n",
            "Requires: \n",
            "Required-by: \n",
            "['/content', '/env/python', '/usr/lib/python310.zip', '/usr/lib/python3.10', '/usr/lib/python3.10/lib-dynload', '', '/usr/local/lib/python3.10/dist-packages', '/usr/lib/python3/dist-packages', '/usr/local/lib/python3.10/dist-packages/IPython/extensions', '/root/.ipython', 'my_lib']\n"
          ]
        }
      ]
    },
    {
      "cell_type": "code",
      "source": [
        "# !echo 'y' | pip uninstall annoy\n"
      ],
      "metadata": {
        "id": "AM2f6wqA5sSa"
      },
      "execution_count": null,
      "outputs": []
    },
    {
      "cell_type": "code",
      "execution_count": 2,
      "metadata": {
        "id": "DFklHcaDskGD"
      },
      "outputs": [],
      "source": [
        "import cohere\n",
        "from annoy import AnnoyIndex\n",
        "import numpy as np\n",
        "import pandas as pd\n",
        "import warnings\n",
        "import re\n",
        "from dotenv import load_dotenv"
      ]
    },
    {
      "cell_type": "code",
      "source": [
        "# create text files from specified web pages and upload them here for colab\n",
        "# also upload your dotenv file for your api key\n",
        "from google.colab import files\n",
        "uploaded = files.upload()\n",
        "from google.colab import drive\n",
        "drive.mount('/content/drive')\n",
        "# access files with:\n",
        "# '/content/drive/MyDrive/<your folder inside drive>/file.ext'"
      ],
      "metadata": {
        "colab": {
          "base_uri": "https://localhost:8080/",
          "height": 160
        },
        "id": "1c6SJEvVOV4R",
        "outputId": "3ae44093-62d6-469e-dc19-4d36ad6f2391"
      },
      "execution_count": 5,
      "outputs": [
        {
          "output_type": "display_data",
          "data": {
            "text/plain": [
              "<IPython.core.display.HTML object>"
            ],
            "text/html": [
              "\n",
              "     <input type=\"file\" id=\"files-e96d034d-d310-44d9-97d8-ae6d5094843d\" name=\"files[]\" multiple disabled\n",
              "        style=\"border:none\" />\n",
              "     <output id=\"result-e96d034d-d310-44d9-97d8-ae6d5094843d\">\n",
              "      Upload widget is only available when the cell has been executed in the\n",
              "      current browser session. Please rerun this cell to enable.\n",
              "      </output>\n",
              "      <script>// Copyright 2017 Google LLC\n",
              "//\n",
              "// Licensed under the Apache License, Version 2.0 (the \"License\");\n",
              "// you may not use this file except in compliance with the License.\n",
              "// You may obtain a copy of the License at\n",
              "//\n",
              "//      http://www.apache.org/licenses/LICENSE-2.0\n",
              "//\n",
              "// Unless required by applicable law or agreed to in writing, software\n",
              "// distributed under the License is distributed on an \"AS IS\" BASIS,\n",
              "// WITHOUT WARRANTIES OR CONDITIONS OF ANY KIND, either express or implied.\n",
              "// See the License for the specific language governing permissions and\n",
              "// limitations under the License.\n",
              "\n",
              "/**\n",
              " * @fileoverview Helpers for google.colab Python module.\n",
              " */\n",
              "(function(scope) {\n",
              "function span(text, styleAttributes = {}) {\n",
              "  const element = document.createElement('span');\n",
              "  element.textContent = text;\n",
              "  for (const key of Object.keys(styleAttributes)) {\n",
              "    element.style[key] = styleAttributes[key];\n",
              "  }\n",
              "  return element;\n",
              "}\n",
              "\n",
              "// Max number of bytes which will be uploaded at a time.\n",
              "const MAX_PAYLOAD_SIZE = 100 * 1024;\n",
              "\n",
              "function _uploadFiles(inputId, outputId) {\n",
              "  const steps = uploadFilesStep(inputId, outputId);\n",
              "  const outputElement = document.getElementById(outputId);\n",
              "  // Cache steps on the outputElement to make it available for the next call\n",
              "  // to uploadFilesContinue from Python.\n",
              "  outputElement.steps = steps;\n",
              "\n",
              "  return _uploadFilesContinue(outputId);\n",
              "}\n",
              "\n",
              "// This is roughly an async generator (not supported in the browser yet),\n",
              "// where there are multiple asynchronous steps and the Python side is going\n",
              "// to poll for completion of each step.\n",
              "// This uses a Promise to block the python side on completion of each step,\n",
              "// then passes the result of the previous step as the input to the next step.\n",
              "function _uploadFilesContinue(outputId) {\n",
              "  const outputElement = document.getElementById(outputId);\n",
              "  const steps = outputElement.steps;\n",
              "\n",
              "  const next = steps.next(outputElement.lastPromiseValue);\n",
              "  return Promise.resolve(next.value.promise).then((value) => {\n",
              "    // Cache the last promise value to make it available to the next\n",
              "    // step of the generator.\n",
              "    outputElement.lastPromiseValue = value;\n",
              "    return next.value.response;\n",
              "  });\n",
              "}\n",
              "\n",
              "/**\n",
              " * Generator function which is called between each async step of the upload\n",
              " * process.\n",
              " * @param {string} inputId Element ID of the input file picker element.\n",
              " * @param {string} outputId Element ID of the output display.\n",
              " * @return {!Iterable<!Object>} Iterable of next steps.\n",
              " */\n",
              "function* uploadFilesStep(inputId, outputId) {\n",
              "  const inputElement = document.getElementById(inputId);\n",
              "  inputElement.disabled = false;\n",
              "\n",
              "  const outputElement = document.getElementById(outputId);\n",
              "  outputElement.innerHTML = '';\n",
              "\n",
              "  const pickedPromise = new Promise((resolve) => {\n",
              "    inputElement.addEventListener('change', (e) => {\n",
              "      resolve(e.target.files);\n",
              "    });\n",
              "  });\n",
              "\n",
              "  const cancel = document.createElement('button');\n",
              "  inputElement.parentElement.appendChild(cancel);\n",
              "  cancel.textContent = 'Cancel upload';\n",
              "  const cancelPromise = new Promise((resolve) => {\n",
              "    cancel.onclick = () => {\n",
              "      resolve(null);\n",
              "    };\n",
              "  });\n",
              "\n",
              "  // Wait for the user to pick the files.\n",
              "  const files = yield {\n",
              "    promise: Promise.race([pickedPromise, cancelPromise]),\n",
              "    response: {\n",
              "      action: 'starting',\n",
              "    }\n",
              "  };\n",
              "\n",
              "  cancel.remove();\n",
              "\n",
              "  // Disable the input element since further picks are not allowed.\n",
              "  inputElement.disabled = true;\n",
              "\n",
              "  if (!files) {\n",
              "    return {\n",
              "      response: {\n",
              "        action: 'complete',\n",
              "      }\n",
              "    };\n",
              "  }\n",
              "\n",
              "  for (const file of files) {\n",
              "    const li = document.createElement('li');\n",
              "    li.append(span(file.name, {fontWeight: 'bold'}));\n",
              "    li.append(span(\n",
              "        `(${file.type || 'n/a'}) - ${file.size} bytes, ` +\n",
              "        `last modified: ${\n",
              "            file.lastModifiedDate ? file.lastModifiedDate.toLocaleDateString() :\n",
              "                                    'n/a'} - `));\n",
              "    const percent = span('0% done');\n",
              "    li.appendChild(percent);\n",
              "\n",
              "    outputElement.appendChild(li);\n",
              "\n",
              "    const fileDataPromise = new Promise((resolve) => {\n",
              "      const reader = new FileReader();\n",
              "      reader.onload = (e) => {\n",
              "        resolve(e.target.result);\n",
              "      };\n",
              "      reader.readAsArrayBuffer(file);\n",
              "    });\n",
              "    // Wait for the data to be ready.\n",
              "    let fileData = yield {\n",
              "      promise: fileDataPromise,\n",
              "      response: {\n",
              "        action: 'continue',\n",
              "      }\n",
              "    };\n",
              "\n",
              "    // Use a chunked sending to avoid message size limits. See b/62115660.\n",
              "    let position = 0;\n",
              "    do {\n",
              "      const length = Math.min(fileData.byteLength - position, MAX_PAYLOAD_SIZE);\n",
              "      const chunk = new Uint8Array(fileData, position, length);\n",
              "      position += length;\n",
              "\n",
              "      const base64 = btoa(String.fromCharCode.apply(null, chunk));\n",
              "      yield {\n",
              "        response: {\n",
              "          action: 'append',\n",
              "          file: file.name,\n",
              "          data: base64,\n",
              "        },\n",
              "      };\n",
              "\n",
              "      let percentDone = fileData.byteLength === 0 ?\n",
              "          100 :\n",
              "          Math.round((position / fileData.byteLength) * 100);\n",
              "      percent.textContent = `${percentDone}% done`;\n",
              "\n",
              "    } while (position < fileData.byteLength);\n",
              "  }\n",
              "\n",
              "  // All done.\n",
              "  yield {\n",
              "    response: {\n",
              "      action: 'complete',\n",
              "    }\n",
              "  };\n",
              "}\n",
              "\n",
              "scope.google = scope.google || {};\n",
              "scope.google.colab = scope.google.colab || {};\n",
              "scope.google.colab._files = {\n",
              "  _uploadFiles,\n",
              "  _uploadFilesContinue,\n",
              "};\n",
              "})(self);\n",
              "</script> "
            ]
          },
          "metadata": {}
        },
        {
          "output_type": "stream",
          "name": "stdout",
          "text": [
            "Saving UBCBTM_careers.txt to UBCBTM_careers (1).txt\n",
            "Saving UBCBTM_reqs.txt to UBCBTM_reqs (1).txt\n",
            "Saving BCOM_General.txt to BCOM_General (1).txt\n",
            "Mounted at /content/drive\n"
          ]
        }
      ]
    },
    {
      "cell_type": "markdown",
      "source": [],
      "metadata": {
        "id": "xdQpIIyoiouF"
      }
    },
    {
      "cell_type": "code",
      "source": [
        "# also upload your dotenv file for your api key\n",
        "import os\n",
        "load_dotenv('.env')\n",
        "COHERE_API_KEY = os.getenv('COHERE_API_KEY')\n",
        "# make a .env file in the following format:\n",
        "# COHERE_API_KEY=\"\\insert\\your\\api\\key\""
      ],
      "metadata": {
        "id": "00b148OzQD2k"
      },
      "execution_count": 6,
      "outputs": []
    },
    {
      "cell_type": "code",
      "source": [
        "# def clean_page(file_name, title):\n",
        "#   with open(file_name, 'r') as file:\n",
        "#     text = file.read() + \"\\n\\n\"\n",
        "#   text = re.split(r'\\n\\n|\\n \\n', text)\n",
        "#   text = list(filter(' '.__ne__, text))\n",
        "#   for i, par in enumerate(text):\n",
        "#     text[i] = f\"{title}: \" + par\n",
        "#   return text"
      ],
      "metadata": {
        "id": "yi-X-zNeD0ZA"
      },
      "execution_count": null,
      "outputs": []
    },
    {
      "cell_type": "code",
      "source": [
        "def clean_page(file_name, title):\n",
        "  with open(file_name, 'r') as file:\n",
        "    text = file.read() + \"\\n\\n\"\n",
        "  text = f\"{title}: {text}\".strip()\n",
        "  return [text]"
      ],
      "metadata": {
        "id": "f4WYtzvqG8AA"
      },
      "execution_count": 7,
      "outputs": []
    },
    {
      "cell_type": "code",
      "source": [
        "db = []"
      ],
      "metadata": {
        "id": "iS9sP6XJErfI"
      },
      "execution_count": 8,
      "outputs": []
    },
    {
      "cell_type": "code",
      "source": [
        "db += clean_page('BCOM_General.txt', \"BCOM Program General Requirements\")\n",
        "db += clean_page('UBCBTM_reqs.txt', \"Business Technology Management requirements\")\n",
        "db += clean_page('UBCBTM_careers.txt', \"Business Technology Management careers\")"
      ],
      "metadata": {
        "id": "iQzpNiI6Evvh"
      },
      "execution_count": 9,
      "outputs": []
    },
    {
      "cell_type": "code",
      "source": [
        "# db = np.array(db)"
      ],
      "metadata": {
        "id": "DyrPUmXXG5dj"
      },
      "execution_count": null,
      "outputs": []
    },
    {
      "cell_type": "code",
      "source": [
        "db[0]"
      ],
      "metadata": {
        "id": "pxziJvehJHO7",
        "colab": {
          "base_uri": "https://localhost:8080/",
          "height": 122
        },
        "outputId": "1634437d-c5b8-41ed-d7fd-7ecf0f14bad8"
      },
      "execution_count": 10,
      "outputs": [
        {
          "output_type": "execute_result",
          "data": {
            "text/plain": [
              "\"BCOM Program General Requirements: Bachelor of Commerce \\nDegree requirements for year 1 entry in 2022W or later\\nWe encourage you to make use of the BCom course planning worksheets as much as possible for the duration of your degree. We also encourage you to consult with academic advisors to develop a comprehensive academic plan that aligns with your academic goals and ensures timely progression towards degree completion, particularly if you are considering a reduced course load. Academic advisors can offer valuable insights and assistance in selecting courses, managing course loads, and navigating potential challenges in course registration. To book an appointment with an Advisor, please go here: https://calendly.com/bcom-ugo-advising\\n\\nContinuation in the BCom program \\n\\nA winter session average of ≥60% based on all courses attempted from September to April is required to continue in the program at all year levels. For more information, please see our Academic Standing page. \\n\\nAre you a transfer student? Review the page linked below:\\n\\n\\n\\n \\nNew Promotion Requirements in 2024W\\n'Year Level' is labelled as 'Class Standing' in Workday Student. Your Class Standing is automatically updated on Workday Student based on these new promotion requirements. We recommend reviewing the information carefully and referring to our program planning sheets to help track your progress.  \\nGo to Program Planning Sheets >> \\n \\nClass Standing 1 / First Year \\t\\t\\nECON 101\\tPrinciples of Microeconomics\\t3\\nECON 102 \\tPrinciples of Macroeconomics\\t3\\nCOMM 101 \\tBusiness Fundamentals\\t3\\nCOMM 105 \\tValues, Ethics, and Community\\t3\\nCOMM 190 \\tIntroduction to Quantitative Decision Making\\t3\\nCOMM 191\\tApplication of Statistics in Business\\t3\\nCOMM 192 \\tManagement and Organizational Behaviour\\t3\\nCOMM 196\\nA minimum grade of 60% is required.\\nBusiness Communications I\\t3\\nMATH 100 or equivalent \\tDifferential Calculus with Applications\\t3\\nNon-Commerce electives \\t\\t3\\nTotal Credits\\t\\t30\\nClass Standing 2 / Second Year \\t\\t\\nCOMM 202 \\tCareer Fundamentals\\t1\\nCOMM 203\\tManaging the Employment Relationship\\t3\\nCOMM 204\\tLogistics and Operations Management\\t3\\nCOMM 205\\tIntroduction to Management Information Systems\\t3\\nCOMM 293\\tFinancial Accounting\\t3\\nCOMM 294\\tManagerial Accounting\\t3\\nCOMM 295\\tManagerial Economics\\t3\\nCOMM 296\\tIntroduction to Marketing\\t3\\nCOMM 298\\tIntroduction to Finance\\t3\\nNon-Commerce electives \\t\\t6\\nTotal Credits\\t\\t31\\n\\n Transfer students should go here for important details on their course planning.\\nClass Standing 3 / Third Year \\t\\t\\nCOMM 393 \\tCommercial Law\\t3\\nCOMM 394\\tEnvironment, Society, and Government\\t3\\nCOMM 396\\nA minimum grade of 60% in COMM 396 is required.\\tBusiness Communications II\\t3\\nOptions Requirements  \\t\\t6\\nElectives\\t\\t15\\nTotal Credits\\t\\t30\\n\\nTransfer students should go here for important details on their course planning. \\n\\nClass Standing 4 / Fourth Year \\t\\t\\nCOMM 491 \\tStrategic Management\\t3\\nCOMM 400\\tCapstone Experience\\t1\\nOptions Requirements  \\t\\t9\\nElectives\\t\\t18\\nTotal Credits\\t\\t31\\nCompleting your degree \\n\\nOnce you have fulfilled your BCom degree requirements, it’s time to\\u202fapply to graduate.\\u202fNote that if you achieve a winter session average below 60% in your final year, you will be permitted to graduate, but a notation of ‘Failed Year’ will appear on your academic transcript for that session.\\u202f \\n\\nContinuation in the BCom program \\n\\nIf you have not completed all your requirements for graduation or wish to take additional courses, you may continue in the next winter session, remaining in Year 4, provided your winter session average is greater than or equal to 60%\\u202fon all courses attempted from September to April.\\u202fYou must\\u202fachieve the minimum 60% continuation requirement\\u202fby the end of the current winter session in April.\\u202fWhen planning your studies, keep in mind that you must complete all of your degree requirements within six years of entering the program.\""
            ],
            "application/vnd.google.colaboratory.intrinsic+json": {
              "type": "string"
            }
          },
          "metadata": {},
          "execution_count": 10
        }
      ]
    },
    {
      "cell_type": "code",
      "source": [
        "co = cohere.Client(\"GEuNRU8vOnitOMlJM2G3sXJqjMkLgvQyxy3uMjfk\")"
      ],
      "metadata": {
        "id": "OhBx6IgaAf6P"
      },
      "execution_count": 11,
      "outputs": []
    },
    {
      "cell_type": "code",
      "source": [
        "embeds = co.embed(\n",
        "    texts=db\n",
        ").embeddings"
      ],
      "metadata": {
        "id": "75-6ZfIsAmw-"
      },
      "execution_count": 12,
      "outputs": []
    },
    {
      "cell_type": "code",
      "source": [
        "embeds = np.array(embeds)"
      ],
      "metadata": {
        "id": "H9Tls-ngAz3k"
      },
      "execution_count": 13,
      "outputs": []
    },
    {
      "cell_type": "code",
      "source": [
        "print(embeds.shape)"
      ],
      "metadata": {
        "id": "QBdXbWVxBAUL",
        "colab": {
          "base_uri": "https://localhost:8080/"
        },
        "outputId": "6a141e13-e602-4306-b4be-494c14c379d5"
      },
      "execution_count": 14,
      "outputs": [
        {
          "output_type": "stream",
          "name": "stdout",
          "text": [
            "(3, 4096)\n"
          ]
        }
      ]
    },
    {
      "cell_type": "code",
      "source": [
        "search_index = AnnoyIndex(embeds.shape[1], 'angular')\n",
        "for i in range(len(embeds)):\n",
        "    search_index.add_item(i, embeds[i])\n",
        "search_index.build(10) # 10 trees"
      ],
      "metadata": {
        "id": "mlAFivj-BDFZ",
        "colab": {
          "base_uri": "https://localhost:8080/"
        },
        "outputId": "b91a64d8-4627-40ac-8ec0-1e32f9a77de3"
      },
      "execution_count": 15,
      "outputs": [
        {
          "output_type": "execute_result",
          "data": {
            "text/plain": [
              "True"
            ]
          },
          "metadata": {},
          "execution_count": 15
        }
      ]
    },
    {
      "cell_type": "code",
      "source": [
        "def search_pages(query):\n",
        "  query_embed = co.embed(texts=[query]).embeddings\n",
        "\n",
        "  similar_page_ids = search_index.get_nns_by_vector(query_embed[0], 10, include_distances=True)\n",
        "  return db[similar_page_ids[0]]"
      ],
      "metadata": {
        "id": "WLgk2vzOBGZU"
      },
      "execution_count": 16,
      "outputs": []
    },
    {
      "cell_type": "code",
      "source": [
        "db = np.array(db)"
      ],
      "metadata": {
        "id": "nI5JzI_3Gj7B"
      },
      "execution_count": 17,
      "outputs": []
    },
    {
      "cell_type": "code",
      "source": [
        "results = search_pages(\n",
        "    \"do I need to take comm 296 to get a BUCS degree?\"\n",
        ")"
      ],
      "metadata": {
        "id": "yplGzTUbGVX3"
      },
      "execution_count": 18,
      "outputs": []
    },
    {
      "cell_type": "code",
      "source": [
        "results[0]"
      ],
      "metadata": {
        "id": "jUlI8ArvHGpq",
        "colab": {
          "base_uri": "https://localhost:8080/",
          "height": 122
        },
        "outputId": "d0231813-96ab-4883-b6cb-ab12fa59c10b"
      },
      "execution_count": 19,
      "outputs": [
        {
          "output_type": "execute_result",
          "data": {
            "text/plain": [
              "\"BCOM Program General Requirements: Bachelor of Commerce \\nDegree requirements for year 1 entry in 2022W or later\\nWe encourage you to make use of the BCom course planning worksheets as much as possible for the duration of your degree. We also encourage you to consult with academic advisors to develop a comprehensive academic plan that aligns with your academic goals and ensures timely progression towards degree completion, particularly if you are considering a reduced course load. Academic advisors can offer valuable insights and assistance in selecting courses, managing course loads, and navigating potential challenges in course registration. To book an appointment with an Advisor, please go here: https://calendly.com/bcom-ugo-advising\\n\\nContinuation in the BCom program \\n\\nA winter session average of ≥60% based on all courses attempted from September to April is required to continue in the program at all year levels. For more information, please see our Academic Standing page. \\n\\nAre you a transfer student? Review the page linked below:\\n\\n\\n\\n \\nNew Promotion Requirements in 2024W\\n'Year Level' is labelled as 'Class Standing' in Workday Student. Your Class Standing is automatically updated on Workday Student based on these new promotion requirements. We recommend reviewing the information carefully and referring to our program planning sheets to help track your progress.  \\nGo to Program Planning Sheets >> \\n \\nClass Standing 1 / First Year \\t\\t\\nECON 101\\tPrinciples of Microeconomics\\t3\\nECON 102 \\tPrinciples of Macroeconomics\\t3\\nCOMM 101 \\tBusiness Fundamentals\\t3\\nCOMM 105 \\tValues, Ethics, and Community\\t3\\nCOMM 190 \\tIntroduction to Quantitative Decision Making\\t3\\nCOMM 191\\tApplication of Statistics in Business\\t3\\nCOMM 192 \\tManagement and Organizational Behaviour\\t3\\nCOMM 196\\nA minimum grade of 60% is required.\\nBusiness Communications I\\t3\\nMATH 100 or equivalent \\tDifferential Calculus with Applications\\t3\\nNon-Commerce electives \\t\\t3\\nTotal Credits\\t\\t30\\nClass Standing 2 / Second Year \\t\\t\\nCOMM 202 \\tCareer Fundamentals\\t1\\nCOMM 203\\tManaging the Employment Relationship\\t3\\nCOMM 204\\tLogistics and Operations Management\\t3\\nCOMM 205\\tIntroduction to Management Information Systems\\t3\\nCOMM 293\\tFinancial Accounting\\t3\\nCOMM 294\\tManagerial Accounting\\t3\\nCOMM 295\\tManagerial Economics\\t3\\nCOMM 296\\tIntroduction to Marketing\\t3\\nCOMM 298\\tIntroduction to Finance\\t3\\nNon-Commerce electives \\t\\t6\\nTotal Credits\\t\\t31\\n\\n Transfer students should go here for important details on their course planning.\\nClass Standing 3 / Third Year \\t\\t\\nCOMM 393 \\tCommercial Law\\t3\\nCOMM 394\\tEnvironment, Society, and Government\\t3\\nCOMM 396\\nA minimum grade of 60% in COMM 396 is required.\\tBusiness Communications II\\t3\\nOptions Requirements  \\t\\t6\\nElectives\\t\\t15\\nTotal Credits\\t\\t30\\n\\nTransfer students should go here for important details on their course planning. \\n\\nClass Standing 4 / Fourth Year \\t\\t\\nCOMM 491 \\tStrategic Management\\t3\\nCOMM 400\\tCapstone Experience\\t1\\nOptions Requirements  \\t\\t9\\nElectives\\t\\t18\\nTotal Credits\\t\\t31\\nCompleting your degree \\n\\nOnce you have fulfilled your BCom degree requirements, it’s time to\\u202fapply to graduate.\\u202fNote that if you achieve a winter session average below 60% in your final year, you will be permitted to graduate, but a notation of ‘Failed Year’ will appear on your academic transcript for that session.\\u202f \\n\\nContinuation in the BCom program \\n\\nIf you have not completed all your requirements for graduation or wish to take additional courses, you may continue in the next winter session, remaining in Year 4, provided your winter session average is greater than or equal to 60%\\u202fon all courses attempted from September to April.\\u202fYou must\\u202fachieve the minimum 60% continuation requirement\\u202fby the end of the current winter session in April.\\u202fWhen planning your studies, keep in mind that you must complete all of your degree requirements within six years of entering the program.\""
            ],
            "application/vnd.google.colaboratory.intrinsic+json": {
              "type": "string"
            }
          },
          "metadata": {},
          "execution_count": 19
        }
      ]
    },
    {
      "cell_type": "code",
      "source": [
        "def ask(question, num_generations=1):\n",
        "  results = search_pages(question)\n",
        "  context = results[0]\n",
        "\n",
        "  prompt = f\"\"\"\n",
        "  Extract the answer of the following question from the text provided.\n",
        "\n",
        "  Question: {question}\n",
        "\n",
        "  Provided text from the web page titled \\\"{context[:context.find(\":\")]}\\\": {context}\n",
        "  \"\"\"\n",
        "\n",
        "  prediction = co.generate(\n",
        "      prompt=prompt,\n",
        "      max_tokens=200,\n",
        "      model=\"command-nightly\",\n",
        "      temperature=0.5,\n",
        "      num_generations=num_generations\n",
        "  )\n",
        "\n",
        "  return prediction.generations"
      ],
      "metadata": {
        "id": "H-b2y27mHord"
      },
      "execution_count": 20,
      "outputs": []
    },
    {
      "cell_type": "code",
      "source": [
        "def ask_debug(question, num_generations=1):\n",
        "  results = search_pages(question)\n",
        "  context = results[0]\n",
        "\n",
        "  prompt = f\"\"\"\n",
        "  Excerpt from the web page titled \\\"{context[:context.find(\":\")]}\\\"\n",
        "\n",
        "  Extract the answer of the following question from the text provdided.\n",
        "  If the text doesn't contain the answer, reply that the answer is not available.\n",
        "\n",
        "  Question: {question}\n",
        "  \"\"\"\n",
        "\n",
        "  prediction = co.generate(\n",
        "      prompt=prompt,\n",
        "      max_tokens=200,\n",
        "      model=\"command-nightly\",\n",
        "      temperature=0.5,\n",
        "      num_generations=num_generations\n",
        "  )\n",
        "\n",
        "  return prediction.generations"
      ],
      "metadata": {
        "id": "ZJoh9_mLLj8B"
      },
      "execution_count": null,
      "outputs": []
    },
    {
      "cell_type": "code",
      "source": [
        "results = ask(\"List me courses that need to be completed before Year 3 for the BCOM degree\", num_generations=5)\n",
        "for i, res in enumerate(results):\n",
        "  print(f\"result {i}: \\n\\n{res}\")"
      ],
      "metadata": {
        "id": "j9-vRea9JGk8",
        "colab": {
          "base_uri": "https://localhost:8080/"
        },
        "outputId": "bd5a9854-b5a7-4ce1-c796-ee61353ffc38"
      },
      "execution_count": 22,
      "outputs": [
        {
          "output_type": "stream",
          "name": "stdout",
          "text": [
            "result 0: \n",
            "\n",
            "id='f1e6389d-0ecd-48b6-82ea-4af4f97bce89' text='The answer is The following courses need to be completed before Year 3 for the BCOM degree: \\n\\nClass Standing 1 / First Year: \\n- ECON 101 - Principles of Microeconomics\\n- ECON 102 - Principles of Macroeconomics\\n- COMM 101 - Business Fundamentals\\n- COMM 105 - Values, Ethics, and Community\\n- COMM 190 - Introduction to Quantitative Decision Making\\n- COMM 191 - Application of Statistics in Business\\n- COMM 192 - Management and Organizational Behaviour\\n- COMM 196 - Business Communications I\\n- MATH 100 or equivalent - Differential Calculus with Applications\\n- Non-Commerce electives \\n\\nClass Standing 2 / Second Year: \\n- COMM 202 - Career Fundamentals\\n- COMM 203 - Managing the Employment Relationship\\n- COMM 204 - Logistics and Operations Management\\n- COMM' index=None likelihood=None token_likelihoods=None\n",
            "result 1: \n",
            "\n",
            "id='b52774f3-25b7-45c0-9a99-fb797fa91e7f' text='The answer is The following courses need to be completed before Year 3 for the BCOM degree: \\n\\nClass Standing 1 / First Year: \\n- ECON 101 - Principles of Microeconomics\\n- ECON 102 - Principles of Macroeconomics\\n- COMM 101 - Business Fundamentals\\n- COMM 105 - Values, Ethics, and Community\\n- COMM 190 - Introduction to Quantitative Decision Making\\n- COMM 191 - Application of Statistics in Business\\n- COMM 192 - Management and Organizational Behaviour\\n- COMM 196 - Business Communications I\\n- MATH 100 or equivalent - Differential Calculus with Applications\\n- Non-Commerce elective \\n\\nClass Standing 2 / Second Year: \\n- COMM 202 - Career Fundamentals\\n- COMM 203 - Managing the Employment Relationship\\n- COMM 204 - Logistics and Operations Management\\n- COMM ' index=None likelihood=None token_likelihoods=None\n",
            "result 2: \n",
            "\n",
            "id='f2be27e2-57f5-439c-8b34-c6e6e7ec9b7e' text='The answer is The following courses need to be completed before Year 3 for the BCOM degree: \\n\\nClass Standing 1 / First Year: \\n- ECON 101 - Principles of Microeconomics\\n- ECON 102 - Principles of Macroeconomics\\n- COMM 101 - Business Fundamentals\\n- COMM 105 - Values, Ethics, and Community\\n- COMM 190 - Introduction to Quantitative Decision Making\\n- COMM 191 - Application of Statistics in Business\\n- COMM 192 - Management and Organizational Behaviour\\n- COMM 196 - Business Communications I\\n- MATH 100 or equivalent - Differential Calculus with Applications\\n- Non-Commerce elective \\n\\nClass Standing 2 / Second Year: \\n- COMM 202 - Career Fundamentals\\n- COMM 203 - Managing the Employment Relationship\\n- COMM 204 - Logistics and Operations Management\\n- COMM ' index=None likelihood=None token_likelihoods=None\n",
            "result 3: \n",
            "\n",
            "id='eda91b78-b0a8-4890-8f0c-162d85b2cb56' text='The answer is To be completed before Year 3 for the BCOM degree are the following courses:\\n\\nClass Standing 1 / First Year:\\n- ECON 101 - Principles of Microeconomics\\n- ECON 102 - Principles of Macroeconomics\\n- COMM 101 - Business Fundamentals\\n- COMM 105 - Values, Ethics, and Community\\n- COMM 190 - Introduction to Quantitative Decision Making\\n- COMM 191 - Application of Statistics in Business\\n- COMM 192 - Management and Organizational Behaviour\\n- COMM 196 - Business Communications I\\n- MATH 100 or equivalent - Differential Calculus with Applications\\n- Non-Commerce elective\\n\\nClass Standing 2 / Second Year:\\n- COMM 202 - Career Fundamentals\\n- COMM 203 - Managing the Employment Relationship\\n- COMM 204 - Logistics and Operations Management\\n- COMM 20' index=None likelihood=None token_likelihoods=None\n",
            "result 4: \n",
            "\n",
            "id='7b6b16b4-a7bb-406d-972e-25d6fd48a034' text='The answer is The following courses need to be completed before Year 3 for the BCOM degree: \\n\\nClass Standing 1 / First Year: \\n- ECON 101 - Principles of Microeconomics\\n- ECON 102 - Principles of Macroeconomics\\n- COMM 101 - Business Fundamentals\\n- COMM 105 - Values, Ethics, and Community\\n- COMM 190 - Introduction to Quantitative Decision Making\\n- COMM 191 - Application of Statistics in Business\\n- COMM 192 - Management and Organizational Behaviour\\n- COMM 196 - Business Communications I\\n- MATH 100 or equivalent - Differential Calculus with Applications\\n- Non-Commerce elective \\n\\nClass Standing 2 / Second Year: \\n- COMM 202 - Career Fundamentals\\n- COMM 203 - Managing the Employment Relationship\\n- COMM 204 - Logistics and Operations Management\\n- COMM ' index=None likelihood=None token_likelihoods=None\n"
          ]
        }
      ]
    }
  ]
}